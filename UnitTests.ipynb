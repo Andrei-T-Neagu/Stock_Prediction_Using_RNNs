{
 "cells": [
  {
   "cell_type": "markdown",
   "id": "73083445",
   "metadata": {},
   "source": [
    "# Unit Tests for Stock Prediction Using RNNs"
   ]
  },
  {
   "cell_type": "code",
   "execution_count": 103,
   "id": "583fc952",
   "metadata": {},
   "outputs": [
    {
     "name": "stdout",
     "output_type": "stream",
     "text": [
      "Requirement already satisfied: ipynb in c:\\users\\andrei\\anaconda3\\lib\\site-packages (0.5.1)\n"
     ]
    }
   ],
   "source": [
    "#Installing package that will help import functions from other jupyter notebooks.\n",
    "!pip install ipynb"
   ]
  },
  {
   "cell_type": "code",
   "execution_count": 104,
   "id": "de221ba9",
   "metadata": {
    "scrolled": true
   },
   "outputs": [],
   "source": [
    "#Importing all libraries needed for the project.\n",
    "\n",
    "#numpy is used for operations on arrays\n",
    "import numpy as np\n",
    "\n",
    "#pandas is used to perform operations on dataframes since yfinance return the data in dataframes. \n",
    "import pandas as pd\n",
    "\n",
    "#yfinance is used to download the stock data from yahoo finance.\n",
    "import yfinance as yf\n",
    "\n",
    "#torch is used to create, train and test the neural networks\n",
    "import torch\n",
    "\n",
    "#sklearn is only used for the mean squared error function.\n",
    "import sklearn\n",
    "\n",
    "#matplotlib.pyplot is used for plotting the results.\n",
    "import matplotlib.pyplot as plt\n",
    "\n",
    "#pytest is used for tests and approximation.\n",
    "import pytest"
   ]
  },
  {
   "cell_type": "markdown",
   "id": "3d831079",
   "metadata": {},
   "source": [
    "## Defining the test functions"
   ]
  },
  {
   "cell_type": "code",
   "execution_count": 105,
   "id": "208d2906",
   "metadata": {},
   "outputs": [],
   "source": [
    "def download_dataset_test():\n",
    "    from ipynb.fs.defs.Stock_Prediction_RNN_Kaggle import download_dataset\n",
    "    \n",
    "    full_dataset = download_dataset('AMD', '1990-01-01', '2022-01-01')\n",
    "    \n",
    "    assert full_dataset.shape == (8063, 18)\n",
    "    print('Passed!')"
   ]
  },
  {
   "cell_type": "code",
   "execution_count": 106,
   "id": "8d820025",
   "metadata": {},
   "outputs": [],
   "source": [
    "def create_dataset_test():\n",
    "    from ipynb.fs.defs.Stock_Prediction_RNN_Kaggle import create_dataset\n",
    "    \n",
    "    np.random.seed(0)\n",
    "    full_dataset = pd.DataFrame(np.random.rand(8063, 5), columns=['Open','Close','High','Low','Stock Percentage Change'])\n",
    "    X, y = create_dataset(full_dataset)\n",
    "    assert X.shape == (8063, 4)\n",
    "    assert y.shape == (8063,)\n",
    "    print('Passed!')"
   ]
  },
  {
   "cell_type": "code",
   "execution_count": 107,
   "id": "d39b4a15",
   "metadata": {},
   "outputs": [],
   "source": [
    "def mean_normalization_test():\n",
    "    from ipynb.fs.defs.Stock_Prediction_RNN_Kaggle import mean_normalization\n",
    "    \n",
    "    np.random.seed(0)\n",
    "    X = pd.DataFrame(np.random.rand(8063, 17))\n",
    "    X_norm, X_norm_mean, X_norm_std = mean_normalization(X)\n",
    "    \n",
    "    assert X_norm_mean[0] == pytest.approx(0.498707, 0.0001)\n",
    "    assert X_norm_std[0] == pytest.approx(0.286907, 0.0001)\n",
    "    assert X_norm.shape == (8063, 17)\n",
    "    assert X_norm_mean.shape == (17,)\n",
    "    assert X_norm_std.shape == (17,)\n",
    "    print('Passed!')"
   ]
  },
  {
   "cell_type": "code",
   "execution_count": 108,
   "id": "43ece9c8",
   "metadata": {},
   "outputs": [],
   "source": [
    "def create_sequences_test():\n",
    "    from ipynb.fs.defs.Stock_Prediction_RNN_Kaggle import create_sequences\n",
    "    \n",
    "    X_norm = pd.DataFrame(np.random.rand(8063, 17))\n",
    "    y = pd.Series(np.random.rand(8063,))\n",
    "    X_sequence, y_np = create_sequences(X_norm, y)\n",
    "    \n",
    "    assert X_sequence.shape == (8034, 30, 17)\n",
    "    assert y_np.shape == (8034,)\n",
    "    assert type(X_sequence) == np.ndarray\n",
    "    assert type(y_np) == np.ndarray\n",
    "    print('Passed!')"
   ]
  },
  {
   "cell_type": "code",
   "execution_count": 109,
   "id": "7b9ea714",
   "metadata": {},
   "outputs": [],
   "source": [
    "def split_dataset_test():\n",
    "    from ipynb.fs.defs.Stock_Prediction_RNN_Kaggle import split_dataset\n",
    "    \n",
    "    X_sequence = np.random.rand(8034, 30, 17)\n",
    "    y_np = np.random.rand(8034,)\n",
    "    X_train, y_train, X_val, y_val, X_test, y_test = split_dataset(X_sequence, y_np)\n",
    "    \n",
    "    assert X_train.shape == (5784, 30, 17)\n",
    "    assert y_train.shape == (5784,)\n",
    "    assert X_val.shape == (643, 30, 17)\n",
    "    assert y_val.shape == (643,)\n",
    "    assert X_test.shape == (1607, 30, 17)\n",
    "    assert y_test.shape == (1607,)\n",
    "    print('Passed!')"
   ]
  },
  {
   "cell_type": "code",
   "execution_count": 110,
   "id": "0bc835ef",
   "metadata": {},
   "outputs": [],
   "source": [
    "def dataset_to_tensors_test():\n",
    "    from ipynb.fs.defs.Stock_Prediction_RNN_Kaggle import dataset_to_tensors\n",
    "    \n",
    "    X_train = np.random.rand(5784, 30, 17)\n",
    "    y_train = np.random.rand(5784,)\n",
    "    X_val = np.random.rand(643, 30, 17)\n",
    "    y_val = np.random.rand(643,)\n",
    "    X_test = np.random.rand(1607, 30, 17)\n",
    "    y_test = np.random.rand(1607,)\n",
    "    \n",
    "    X_train_t, y_train_t, X_val_t, y_val_t, X_test_t, y_test_t = dataset_to_tensors(X_train, y_train, X_val, y_val, X_test, y_test)\n",
    "    assert type(X_train_t) == torch.Tensor\n",
    "    assert type(X_test_t) == torch.Tensor\n",
    "    assert type(X_val_t) == torch.Tensor\n",
    "    assert type(y_train_t) == torch.Tensor\n",
    "    assert type(y_test_t) == torch.Tensor\n",
    "    assert type(y_val_t) == torch.Tensor\n",
    "    print('Passed!')"
   ]
  },
  {
   "cell_type": "code",
   "execution_count": 111,
   "id": "9146f67d",
   "metadata": {},
   "outputs": [],
   "source": [
    "def mse_test():\n",
    "    from ipynb.fs.defs.Stock_Prediction_RNN_Kaggle import mse\n",
    "    \n",
    "    torch.manual_seed(0)\n",
    "    y_test_t = torch.rand((200, 1))\n",
    "    y_pred = torch.rand((200, 1))\n",
    "    \n",
    "    assert mse(y_test_t, y_pred) == pytest.approx(0.17017467)\n",
    "    print('Passed!')"
   ]
  },
  {
   "cell_type": "markdown",
   "id": "757b5f26",
   "metadata": {},
   "source": [
    "## Running the tests"
   ]
  },
  {
   "cell_type": "code",
   "execution_count": 112,
   "id": "15001250",
   "metadata": {},
   "outputs": [
    {
     "name": "stdout",
     "output_type": "stream",
     "text": [
      "[*********************100%***********************]  1 of 1 completed\n",
      "[*********************100%***********************]  1 of 1 completed\n",
      "[*********************100%***********************]  1 of 1 completed\n",
      "Passed!\n"
     ]
    }
   ],
   "source": [
    "download_dataset_test()"
   ]
  },
  {
   "cell_type": "code",
   "execution_count": 113,
   "id": "6a06b287",
   "metadata": {},
   "outputs": [
    {
     "name": "stdout",
     "output_type": "stream",
     "text": [
      "Passed!\n"
     ]
    }
   ],
   "source": [
    "create_dataset_test()"
   ]
  },
  {
   "cell_type": "code",
   "execution_count": 114,
   "id": "96d5c272",
   "metadata": {},
   "outputs": [
    {
     "name": "stdout",
     "output_type": "stream",
     "text": [
      "Passed!\n"
     ]
    }
   ],
   "source": [
    "mean_normalization_test()"
   ]
  },
  {
   "cell_type": "code",
   "execution_count": 115,
   "id": "5304b969",
   "metadata": {},
   "outputs": [
    {
     "name": "stdout",
     "output_type": "stream",
     "text": [
      "Passed!\n"
     ]
    }
   ],
   "source": [
    "create_sequences_test()"
   ]
  },
  {
   "cell_type": "code",
   "execution_count": 116,
   "id": "6cc88798",
   "metadata": {},
   "outputs": [
    {
     "name": "stdout",
     "output_type": "stream",
     "text": [
      "Passed!\n"
     ]
    }
   ],
   "source": [
    "split_dataset_test()"
   ]
  },
  {
   "cell_type": "code",
   "execution_count": 117,
   "id": "af931c55",
   "metadata": {},
   "outputs": [
    {
     "name": "stdout",
     "output_type": "stream",
     "text": [
      "Passed!\n"
     ]
    }
   ],
   "source": [
    "dataset_to_tensors_test()"
   ]
  },
  {
   "cell_type": "code",
   "execution_count": 118,
   "id": "11f3fbbe",
   "metadata": {},
   "outputs": [
    {
     "name": "stdout",
     "output_type": "stream",
     "text": [
      "Passed!\n"
     ]
    }
   ],
   "source": [
    "mse_test()"
   ]
  },
  {
   "cell_type": "code",
   "execution_count": null,
   "id": "09e6dbec",
   "metadata": {},
   "outputs": [],
   "source": []
  }
 ],
 "metadata": {
  "kernelspec": {
   "display_name": "Python 3",
   "language": "python",
   "name": "python3"
  },
  "language_info": {
   "codemirror_mode": {
    "name": "ipython",
    "version": 3
   },
   "file_extension": ".py",
   "mimetype": "text/x-python",
   "name": "python",
   "nbconvert_exporter": "python",
   "pygments_lexer": "ipython3",
   "version": "3.8.8"
  }
 },
 "nbformat": 4,
 "nbformat_minor": 5
}
